{
 "cells": [
  {
   "cell_type": "code",
   "execution_count": 1,
   "metadata": {
    "collapsed": true
   },
   "outputs": [],
   "source": [
    "import sys\n",
    "import os\n",
    "import pandas as pd\n",
    "import numpy as np\n",
    "\n",
    "stdout = sys.stdout\n",
    "reload(sys)\n",
    "sys.setdefaultencoding('utf-8')\n",
    "sys.stdout = stdout"
   ]
  },
  {
   "cell_type": "code",
   "execution_count": null,
   "metadata": {
    "collapsed": false
   },
   "outputs": [],
   "source": [
    "# save the new results\n",
    "output_filename = \"realDonaldTrump_tweets_analyzed.csv\"\n",
    "output_path = os.path.join(os.path.expanduser(\"~\"), \"TrumpTwitterAnalysis\", \"Data\", output_filename)\n",
    "tweets_pd.to_csv(output_path, encoding='utf-8', index=False)"
   ]
  },
  {
   "cell_type": "code",
   "execution_count": null,
   "metadata": {
    "collapsed": false
   },
   "outputs": [],
   "source": [
    "# use only the twitter texts to train a word2vec model\n",
    "from basic_analysis import filter_set\n",
    "m2vmethod = 1  # methodType: 0: CBOW; 1: skip-gram\n",
    "epoch = 40\n",
    "nFeatures = 500\n",
    "token_texts = [text.split() for text in texts if len(text) > 0]\n",
    "#token_texts = [text for text in texts]\n",
    "#w2v_Trump = w2v_analyzer.w2v_analyzer(token_texts, m2vmethod, nFeatures, epoch, filter_set)\n",
    "#w2v_Trump.fit(token_texts)\n",
    "\n",
    "from gensim.models import Word2Vec\n",
    "w2v_Trump = Word2Vec(token_texts, sg=m2vmethod, iter=40, size=nFeatures, min_count=1, window=5, workers=2)\n",
    "\n",
    "#w2v_Trump.wv['vote']\n",
    "w2v_Trump.wv.most_similar(positive=['hillary'])"
   ]
  },
  {
   "cell_type": "code",
   "execution_count": null,
   "metadata": {
    "collapsed": false
   },
   "outputs": [],
   "source": [
    "nTopics = 20\n",
    "nCluster = 1000\n",
    "max_ngram = 1\n",
    "\n",
    "## read LDA\n",
    "from feature_extraction import *\n",
    "from decomposition_analysis import *\n",
    "LDApickle_filename = 'LDAdata_' + str(nTopics) + 'topics_'+ str(nCluster) + 'clusters_' + str(max_ngram) + 'ngram.pkl'\n",
    "LDApickle_path = os.path.join(os.path.expanduser(\"~\"), \"TrumpTwitterAnalysis\", \"Pickles\", LDApickle_filename)\n",
    "(extractor_LDAex, X_LDAex, featureNames_LDAex, X_trans, analyzer) = pd.read_pickle(LDApickle_path)"
   ]
  },
  {
   "cell_type": "code",
   "execution_count": null,
   "metadata": {
    "collapsed": false
   },
   "outputs": [],
   "source": [
    "import pyLDAvis, pyLDAvis.sklearn\n",
    "pyLDAvis.enable_notebook()\n",
    "data_pyLDAvis = pyLDAvis.sklearn.prepare(analyzer, X_LDAex, extractor_LDAex)\n",
    "#pyLDAvis.show(data_pyLDAvis)\n",
    "pyLDAvis.display(data_pyLDAvis, True)"
   ]
  },
  {
   "cell_type": "code",
   "execution_count": null,
   "metadata": {
    "collapsed": false
   },
   "outputs": [],
   "source": [
    "def get_decompositionResult(model, featureNames):\n",
    "    nTopics = model.components_.shape[0]\n",
    "    results0_featurename = list()\n",
    "    results0_possiblity = list()\n",
    "    topics_freq = np.zeros(nTopics)\n",
    "    for iTopic, topic in enumerate(model.components_):\n",
    "        topics_freq[iTopic] = np.sum(topic)\n",
    "        topic_featurename = list()\n",
    "        topic_possiblity = list()\n",
    "        for i in topic.argsort()[:-len(featureNames)-1:-1]:\n",
    "            topic_featurename.append(featureNames[i])\n",
    "            topic_possiblity.append(topic[i])\n",
    "\n",
    "        results0_featurename.append(topic_featurename)\n",
    "        results0_possiblity.append(topic_possiblity)\n",
    "\n",
    "    results_featurename = list()\n",
    "    results_possiblity = list()\n",
    "    for iTopic in topics_freq.argsort()[:-nTopics-1:-1]:\n",
    "        results_featurename.append(results0_featurename[iTopic])\n",
    "        results_possiblity.append(results0_possiblity[iTopic])\n",
    "    \n",
    "    return results_featurename, results_possiblity"
   ]
  },
  {
   "cell_type": "code",
   "execution_count": null,
   "metadata": {
    "collapsed": false
   },
   "outputs": [],
   "source": [
    "LDAresults_featurename, LDAresults_possiblity = get_decompositionResult(analyzer, featureNames_LDAex)\n",
    "\n",
    "nWords_show = 20\n",
    "for iTopic in range(nTopics):\n",
    "    print 'Topic%d' % iTopic\n",
    "    print \" \".join(LDAresults_featurename[iTopic][0:nWords_show])\n",
    "    #print LDAresults_possiblity[iTopic][0:nWords_show]"
   ]
  },
  {
   "cell_type": "code",
   "execution_count": null,
   "metadata": {
    "collapsed": false
   },
   "outputs": [],
   "source": [
    "from basic_analysis import filter_set\n",
    "from w2v_analyzer import w2v_analyzer\n",
    "\n",
    "w2vSource = 'GoogleNews'\n",
    "m2vmethod = 1  # methodType: 0: CBOW; 1: skip-gram\n",
    "w2vAnalyzer = w2v_analyzer(w2vSource, m2vmethod, 300, 40, filter_set)"
   ]
  },
  {
   "cell_type": "code",
   "execution_count": 99,
   "metadata": {
    "collapsed": true
   },
   "outputs": [],
   "source": [
    "# Topic keywords\n",
    "myTopics = list()\n",
    "# Topic 1\n",
    "myTopics.append(['hillary', 'clinton', 'crooked', 'bernie', 'obama', 'years', 'campaign', 'bad'])\n",
    "# Topic 2\n",
    "myTopics.append(['fake', 'news', 'dishonest', 'media', 'failing', 'big', 'story', 'said'])\n",
    "# Topic 3\n",
    "myTopics.append(['make', 'america', 'great', 'again', 'together', 'we', 'american', 'people'])\n",
    "# Topic 4\n",
    "myTopics.append(['white', 'house', 'great', 'day', 'honor', 'today', 'meeting', 'senator'])\n",
    "# Topic 5\n",
    "myTopics.append(['obamacare', 'repeal', 'replace', 'disaster', 'crazy', 'bill', 'failed', 'reform'])\n",
    "# Topic 6\n",
    "myTopics.append(['join', 'live', 'rally', 'tomorrow', 'tonight', 'tickets', 'today', 'speech'])\n",
    "# Topic 7\n",
    "myTopics.append(['korea', 'north', 'south', 'china', 'trade', 'deficit', 'problem', 'president'])\n",
    "# Topic 8\n",
    "myTopics.append(['law', 'enforcement', 'officers', 'police', 'executive', 'order', 'killed', 'victims'])\n",
    "# Topic 9\n",
    "myTopics.append(['trump', 'vote', 'poll', 'team', 'voters', 'final', 'americans', 'debate'])\n",
    "# Topic 10\n",
    "myTopics.append(['jobs', 'bring', 'back', 'dollars', 'optimism', 'economic', 'market', 'companies'])\n",
    "# Topic 11\n",
    "myTopics.append(['enjoy', 'interviewed', 'tonight', 'looking', 'forward', 'interview', 'prime', 'minister'])\n",
    "# Topic 12\n",
    "myTopics.append(['heroes', 'veterans', 'honor', 'today', 'act', 'announced', 'american', 'lives'])\n",
    "# Topic 13\n",
    "myTopics.append(['islamic', 'terror', 'radical', 'ban', 'tough', 'allowed', 'border', 'immigration'])\n",
    "# Topic 14\n",
    "myTopics.append(['fbi', 'russia', 'cia', 'emails', 'director', 'illegally', 'investigation', 'server'])\n",
    "# Topic 15\n",
    "myTopics.append(['mexico', 'wall', 'pay', 'trade', 'deficit', 'plant', 'crime', 'deal'])\n",
    "# Topic 16\n",
    "myTopics.append(['syria', 'ISIS', 'syrian', 'refugees', 'immigrants', 'putin', 'rebels', 'ceasefire'])\n",
    "\n",
    "myTopicsNames = ['HRC', 'fakeNews', 'MAGA', 'whitehouse', 'healthcare', 'join', 'korea&china', 'police', 'vote', 'jobs',\n",
    "                'interview', 'veterans', 'terror', 'fbi', 'mexico', 'refugee']\n",
    "\n",
    "nMyTopics = len(myTopicsNames)"
   ]
  },
  {
   "cell_type": "code",
   "execution_count": null,
   "metadata": {
    "collapsed": true
   },
   "outputs": [],
   "source": [
    "for i, theTopic in enumerate(myTopics):\n",
    "    for keyword in theTopic:\n",
    "        try:\n",
    "            wv = w2vAnalyzer.model.wv[keyword]\n",
    "        except KeyError:\n",
    "            print 'In Topic' + str(i+1) + ', keyword: ' + keyword + ' not found in w2v vocabulary!'"
   ]
  },
  {
   "cell_type": "code",
   "execution_count": 3,
   "metadata": {
    "collapsed": false
   },
   "outputs": [],
   "source": [
    "'''\n",
    "read data\n",
    "'''\n",
    "input_filename = \"realDonaldTrump_tweets_analyzed.csv\"\n",
    "input_path = os.path.join(os.path.expanduser(\"~\"), \"TrumpTwitterAnalysis\", \"Data\", input_filename)\n",
    "tweets_pd = pd.read_csv(input_path)"
   ]
  },
  {
   "cell_type": "code",
   "execution_count": null,
   "metadata": {
    "collapsed": false
   },
   "outputs": [],
   "source": [
    "# 242, 467, 490\n",
    "irow = 296\n",
    "print tweets_pd.iloc[irow]['text']\n",
    "print tweets_pd.iloc[irow]['normalText']\n",
    "print tweets_pd.iloc[irow][myTopicsNames]\n",
    "print tweets_pd.iloc[irow][[topicName+'_trans' for topicName in myTopicsNames]]"
   ]
  },
  {
   "cell_type": "code",
   "execution_count": 4,
   "metadata": {
    "collapsed": false
   },
   "outputs": [],
   "source": [
    "simu = tweets_pd[myTopicsNames].values\n",
    "simu_trans = tweets_pd[[topicName+'_trans' for topicName in myTopicsNames]].values"
   ]
  },
  {
   "cell_type": "code",
   "execution_count": null,
   "metadata": {
    "collapsed": true
   },
   "outputs": [],
   "source": [
    "from datetime import date, timedelta\n",
    "import matplotlib.dates as mdates\n",
    "import matplotlib.pyplot as plt\n",
    "\n",
    "#prop_cycle = plt.rcParams['axes.prop_cycle']\n",
    "#colors = prop_cycle.by_key()['color']\n",
    "\n",
    "from colors import cdict\n",
    "colorNames = ['blue', 'black', 'red', 'brown', 'cyan', 'orange', 'skyblue', 'purple', 'tomato', 'yellow',\n",
    "              'tan', 'magenta', 'green', 'darkblue', 'yellowgreen', 'gray']\n",
    "colors = [cdict[cn] for cn in colorNames]"
   ]
  },
  {
   "cell_type": "code",
   "execution_count": null,
   "metadata": {
    "collapsed": false
   },
   "outputs": [],
   "source": [
    "import time\n",
    "\n",
    "dates = []\n",
    "dates_day = []\n",
    "simu_dates = []\n",
    "nTweets_date = []\n",
    "lastDate = date(2000, 1, 1)\n",
    "nDays = 0\n",
    "simu_trans_valid = None\n",
    "for irow, row in tweets_pd.iterrows():\n",
    "    if row['w2vTokens_count'] == 0:\n",
    "        continue\n",
    "    theDate = date(row['created_y'], row['created_m'], 1)  # row['created_d']\n",
    "    if simu_trans_valid is None:\n",
    "        simu_trans_valid = simu_trans[irow].reshape(1, -1)\n",
    "    else:\n",
    "        simu_trans_valid = np.vstack((simu_trans_valid, simu_trans[irow].reshape(1, -1)))\n",
    "\n",
    "    if theDate != lastDate:\n",
    "        nDays += 1\n",
    "        dates.append(theDate)\n",
    "        nTweets_date.append(1)\n",
    "    else:\n",
    "        nTweets_date[-1] += 1\n",
    "\n",
    "    lastDate = theDate\n",
    "\n",
    "print np.mean(simu_trans_valid, axis=0)"
   ]
  },
  {
   "cell_type": "code",
   "execution_count": null,
   "metadata": {
    "collapsed": true
   },
   "outputs": [],
   "source": [
    "# form days during the simulation period\n",
    "dates_day.append(dates[0])\n",
    "for i, theDate in enumerate(dates):\n",
    "    for d in range(30, 1, -1):\n",
    "        if theDate.month == 2 and d >= 29:\n",
    "            continue\n",
    "        theDate_day = date(theDate.year, theDate.month, d)\n",
    "        if theDate_day < dates[0] and theDate_day > dates[-1]:\n",
    "            dates_day.append(theDate_day)\n",
    "dates_day.append(dates[-1])\n",
    "\n",
    "ts_month = [time.mktime(theDate.timetuple()) for theDate in dates]\n",
    "ts_day = [time.mktime(theDate_day.timetuple()) for theDate_day in dates_day]\n",
    "\n",
    "irow = 0\n",
    "for nTweets_day in nTweets_date:\n",
    "    dateSimu = np.mean(simu_trans_valid[irow:irow + nTweets_day], axis=0)\n",
    "    irow += nTweets_day\n",
    "    simu_dates.append(dateSimu)\n",
    "simu_dates = np.array(simu_dates)\n",
    "assert irow == simu_trans_valid.shape[0]\n",
    "assert len(nTweets_date) == simu_dates.shape[0]\n",
    "\n",
    "from sklearn.preprocessing import scale\n",
    "simu_dates = scale(simu_dates, axis=0, with_mean=True, with_std=True, copy=False)"
   ]
  },
  {
   "cell_type": "code",
   "execution_count": null,
   "metadata": {
    "collapsed": false
   },
   "outputs": [],
   "source": [
    "from scipy.interpolate import interp1d\n",
    "\n",
    "#plt.figure(1, figsize=(20, 10))\n",
    "plt.figure(1, figsize=(24, 8))\n",
    "#ax = plt.subplot(1, 1, 1)\n",
    "plt.gca().xaxis.set_major_formatter(mdates.DateFormatter('%Y-%m-%d'))\n",
    "plt.gca().xaxis.set_major_locator(mdates.MonthLocator())\n",
    "\n",
    "# group the topics to show clearly\n",
    "#kind_set = [[0, 2, 5, 8], [1, 3, 10, 13], [4, 7, 9, 11], [6, 12, 14, 15]]\n",
    "#kind_set = [[0, 1, 9, 6], [2, 10, 4, 12], [5, 3, 7, 14], [8, 13, 11, 15]]\n",
    "kind_set = [[0, 1, 2, 3], [4, 5, 6, 7], [8, 9, 10, 11], [12, 13, 14, 15]]\n",
    "\n",
    "myTopicsNames_rearrange = list()\n",
    "for ks in kind_set:\n",
    "    for k in ks:\n",
    "        myTopicsNames_rearrange.append(myTopicsNames[k])\n",
    "ls = list()\n",
    "for k, ks in enumerate(kind_set):\n",
    "    ax = plt.subplot(len(kind_set), 1, k+1)\n",
    "    for j in range(nMyTopics):\n",
    "        if j in ks:\n",
    "            # plt.plot(dates, simu_dates[:, j], color=colors[j], label=myTopicsNames[j])\n",
    "            #ax.scatter(dates, simu_dates[:, j], color=colors[j])\n",
    "\n",
    "            f = interp1d(ts_month, simu_dates[:, j], kind='zero')  # kind='zero' 'nearest' 'slinear' 'quadratic'\n",
    "            l, = ax.plot(dates_day, f(ts_day), color=colors[j], linewidth=3)  #\n",
    "            ls.append(l)\n",
    "            plt.xlim((dates_day[-1]+timedelta(days=-2), dates_day[0]+timedelta(days=2)))\n",
    "    box = ax.get_position()\n",
    "    ax.set_position([box.x0, box.y0, box.width*0.8, box.height])\n",
    "    ax.titlesize = 12\n",
    "\n",
    "    dates_forward = dates\n",
    "    dates_forward.reverse()\n",
    "    ax.set_xticks(dates_forward)\n",
    "    ax.set_xticklabels(dates_forward, rotation=90)\n",
    "    plt.ylim((-2.5, 3.0))\n",
    "    plt.ylabel('\\'Hotness\\'', color='black')  # , fontweight='bold'\n",
    "plt.legend(ls, myTopicsNames_rearrange, bbox_to_anchor=(1.13, 4.65), ncol=1, fontsize=10, labelspacing=1.5, frameon=False)\n",
    "#plt.legend(ls, myTopicsNames_rearrange, bbox_to_anchor=(1.13, 4.65), ncol=1, fontsize=12, labelspacing=1.0, frameon=False)\n",
    "plt.gcf().autofmt_xdate()\n",
    "#plt.savefig(\"topics_time.png\")\n",
    "\n",
    "plt.show()"
   ]
  },
  {
   "cell_type": "code",
   "execution_count": null,
   "metadata": {
    "collapsed": false
   },
   "outputs": [],
   "source": [
    "irow = 15\n",
    "print dates[len(dates)-1-irow]\n",
    "print simu_dates[len(dates)-1-irow]"
   ]
  },
  {
   "cell_type": "code",
   "execution_count": null,
   "metadata": {
    "collapsed": false
   },
   "outputs": [],
   "source": [
    "# given a Topic, list the most similar tweets in a specific month\n",
    "y = 2017\n",
    "m = 6\n",
    "iTopic = 8\n",
    "print 'For Topic [' + myTopicsNames[iTopic-1] + ']:'\n",
    "tweets_month = tweets_pd[(tweets_pd['created_y'] == y) & (tweets_pd['created_m'] == m)]\n",
    "text_month = tweets_month['normalText'].values\n",
    "simu_month = tweets_month[myTopicsNames[iTopic-1]+'_trans'].values\n",
    "sorted_simu_month = simu_month.argsort()[:-len(simu_month)-1:-1]\n",
    "sorted_text_month = [text_month[i] for i in sorted_simu_month]\n",
    "#[str(topic[i]) + '*' + featureNames[i] for i in topic.argsort()[:-n_top_words-1:-1]]\n",
    "\n",
    "for i in range(min(15, len(tweets_month))):\n",
    "    print sorted_text_month[i], simu_month[sorted_simu_month[i]]\n",
    "    print str(y)+'-'+str(m)+'-'+str(tweets_month.iloc[sorted_simu_month[i]]['created_d']), str(tweets_month.iloc[sorted_simu_month[i]]['created_h']) + ':' + str(tweets_month.iloc[sorted_simu_month[i]]['created_min'])"
   ]
  },
  {
   "cell_type": "code",
   "execution_count": 58,
   "metadata": {
    "collapsed": false
   },
   "outputs": [],
   "source": [
    "# extract data\n",
    "nTweets_full = 3553\n",
    "\n",
    "X0 = None\n",
    "Y = None\n",
    "sources = list()\n",
    "for irow, row in tweets_pd.iterrows():\n",
    "    if row['w2vTokens_count'] == 0 or irow >= nTweets_full:\n",
    "        continue\n",
    "\n",
    "    rX = row[[topicName + '_trans' for topicName in myTopicsNames]].values.reshape(1, -1)\n",
    "    rY = row[['favorite_count', 'retweet_count']].values.reshape(1, -1)\n",
    "    sources.append(row['source'])\n",
    "    if X0 is None:\n",
    "        X0 = rX\n",
    "        Y = rY\n",
    "    else:\n",
    "        X0 = np.vstack((X0, rX))\n",
    "        Y = np.vstack((Y, rY))\n",
    "nD = X.shape[0]"
   ]
  },
  {
   "cell_type": "code",
   "execution_count": 32,
   "metadata": {
    "collapsed": true
   },
   "outputs": [],
   "source": [
    "y = Y[:, 0]\n",
    "from transformers import LabelConverter\n",
    "label = LabelConverter().fit_transform(y)"
   ]
  },
  {
   "cell_type": "code",
   "execution_count": 33,
   "metadata": {
    "collapsed": true
   },
   "outputs": [],
   "source": [
    "from sklearn.preprocessing import StandardScaler\n",
    "X1 = StandardScaler().fit_transform(X0)\n",
    "from transformers import FilterSimu\n",
    "X = FilterSimu(0.99).fit_transform(X1)"
   ]
  },
  {
   "cell_type": "code",
   "execution_count": 34,
   "metadata": {
    "collapsed": false
   },
   "outputs": [
    {
     "name": "stdout",
     "output_type": "stream",
     "text": [
      "(3175, 16)\n",
      "(3175, 2)\n"
     ]
    }
   ],
   "source": [
    "print X0.shape\n",
    "print Y.shape"
   ]
  },
  {
   "cell_type": "code",
   "execution_count": 35,
   "metadata": {
    "collapsed": false
   },
   "outputs": [
    {
     "name": "stdout",
     "output_type": "stream",
     "text": [
      "[[-0.53607688  0.25663024 -0.06325712  0.04387922  0.13608607 -0.53475914\n",
      "   0.10335555 -0.03811388 -0.26893384  0.0312349  -0.2007213   0.173094\n",
      "   0.13932181  0.205325   -0.06063418  0.03015919]]\n",
      "[-0.06099464]\n",
      "0.651338582677\n"
     ]
    }
   ],
   "source": [
    "from sklearn.svm import LinearSVC\n",
    "rng = np.random.RandomState(1)\n",
    "p = 'l2'\n",
    "C = 1.0\n",
    "classifier = LinearSVC(penalty=p, loss='squared_hinge', dual=False, tol=0.0001, C=C, multi_class='ovr',\n",
    "                               fit_intercept=True, intercept_scaling=1, class_weight=None, verbose=0, random_state=rng,\n",
    "                               max_iter=1000)\n",
    "classifier.fit(X, label)\n",
    "label_pred = classifier.predict(X)\n",
    "score = classifier.score(X, label)\n",
    "print classifier.coef_\n",
    "print classifier.intercept_\n",
    "print score"
   ]
  },
  {
   "cell_type": "code",
   "execution_count": 19,
   "metadata": {
    "collapsed": false
   },
   "outputs": [
    {
     "name": "stdout",
     "output_type": "stream",
     "text": [
      "[0]\n"
     ]
    }
   ],
   "source": [
    "test_X = np.zeros((1,16))\n",
    "test_X[0, 9] = 1\n",
    "print classifier.predict(test_X)"
   ]
  },
  {
   "cell_type": "code",
   "execution_count": 40,
   "metadata": {
    "collapsed": false
   },
   "outputs": [
    {
     "name": "stdout",
     "output_type": "stream",
     "text": [
      "HRC\n",
      "[-0.22031665] 0.460745440127\n",
      "0.0326535297797\n",
      "fakeNews\n",
      "[ 0.16989467] 0.390711389606\n",
      "0.0147784373715\n",
      "MAGA\n",
      "[ 0.01998101] 0.411877394636\n",
      "0.000240492295811\n",
      "whitehouse\n",
      "[ 0.02817847] 0.410578386606\n",
      "0.000466256291735\n",
      "healthcare\n",
      "[ 0.11251595] 0.402072909221\n",
      "0.00545499651188\n",
      "join\n",
      "[-0.26088893] 0.445671535447\n",
      "0.0287196244249\n",
      "korea&china\n",
      "[ 0.07327618] 0.407170749024\n",
      "0.00221193687246\n",
      "police\n",
      "[ 0.06224457] 0.407885304659\n",
      "0.00169998482366\n",
      "vote\n",
      "[-0.13846347] 0.435406698565\n",
      "0.00974546920028\n",
      "jobs\n",
      "[ 0.05901142] 0.408556149733\n",
      "0.00147633161768\n",
      "interview\n",
      "[-0.12215893] 0.430053667263\n",
      "0.00647430395098\n",
      "veterans\n",
      "[ 0.06068304] 0.408590699326\n",
      "0.00151698685484\n",
      "terror\n",
      "[ 0.11422889] 0.402625044342\n",
      "0.00534901981016\n",
      "fbi\n",
      "[ 0.0462271] 0.40796393689\n",
      "0.00119205385643\n",
      "mexico\n",
      "[ 0.02330217] 0.413179916318\n",
      "0.000195293337306\n",
      "refugee\n",
      "[ 0.04828732] 0.410292562566\n",
      "0.000913312615952\n"
     ]
    }
   ],
   "source": [
    "from sklearn.linear_model import LinearRegression\n",
    "for i in range(nMyTopics):\n",
    "    print myTopicsNames[i]\n",
    "    LRtopic = LinearRegression().fit(X1[:, i].reshape(-1, 1), label)\n",
    "    print LRtopic.coef_, LRtopic.intercept_\n",
    "    print LRtopic.score(X1[:,i].reshape(-1, 1), label)"
   ]
  },
  {
   "cell_type": "code",
   "execution_count": 41,
   "metadata": {
    "collapsed": false
   },
   "outputs": [
    {
     "name": "stdout",
     "output_type": "stream",
     "text": [
      "[[ 0.  1.  0. ...,  0.  0.  0.]\n",
      " [ 1.  0.  0. ...,  0.  0.  0.]\n",
      " [ 0.  0.  0. ...,  0.  0.  0.]\n",
      " ..., \n",
      " [ 1.  0.  0. ...,  1.  0.  0.]\n",
      " [ 0.  1.  0. ...,  0.  0.  1.]\n",
      " [ 0.  0.  0. ...,  0.  0.  0.]]\n"
     ]
    }
   ],
   "source": [
    "print X"
   ]
  },
  {
   "cell_type": "code",
   "execution_count": 46,
   "metadata": {
    "collapsed": false
   },
   "outputs": [
    {
     "name": "stdout",
     "output_type": "stream",
     "text": [
      "[   0    0    1 ..., 3174 3174 3174]\n",
      "[ 1  9  0 ...,  5 11 12]\n",
      "(6795,)\n",
      "(6795,)\n"
     ]
    }
   ],
   "source": [
    "nz= np.nonzero(X)\n",
    "print nz[0]\n",
    "print nz[1]\n",
    "print nz[0].shape\n",
    "print nz[1].shape"
   ]
  },
  {
   "cell_type": "code",
   "execution_count": 48,
   "metadata": {
    "collapsed": false
   },
   "outputs": [],
   "source": [
    "nz_row, nz_col = np.nonzero(X)"
   ]
  },
  {
   "cell_type": "code",
   "execution_count": 171,
   "metadata": {
    "collapsed": false
   },
   "outputs": [
    {
     "name": "stdout",
     "output_type": "stream",
     "text": [
      "HRC: ave_favorite = 43818.0; ave_retweet = 10732.0; retweet/favorite rate = 0.2449221781\n",
      "fakeNews: ave_favorite = 56288.0; ave_retweet = 14424.0; retweet/favorite rate = 0.256253553155\n",
      "MAGA: ave_favorite = 40420.0; ave_retweet = 10064.0; retweet/favorite rate = 0.248985650668\n",
      "whitehouse: ave_favorite = 81288.0; ave_retweet = 18023.0; retweet/favorite rate = 0.221717842732\n",
      "healthcare: ave_favorite = 77913.0; ave_retweet = 13846.0; retweet/favorite rate = 0.177711036669\n",
      "join: ave_favorite = 70703.0; ave_retweet = 16296.0; retweet/favorite rate = 0.230485269366\n",
      "korea&china: ave_favorite = 46839.0; ave_retweet = 13097.0; retweet/favorite rate = 0.27961741284\n",
      "police: ave_favorite = 104106.0; ave_retweet = 16077.0; retweet/favorite rate = 0.154429139531\n",
      "vote: ave_favorite = 80555.0; ave_retweet = 14227.0; retweet/favorite rate = 0.176612252498\n",
      "jobs: ave_favorite = 101367.0; ave_retweet = 23200.0; retweet/favorite rate = 0.228871328933\n",
      "interview: ave_favorite = 126254.0; ave_retweet = 35167.0; retweet/favorite rate = 0.278541669967\n",
      "veterans: ave_favorite = 124870.0; ave_retweet = 24998.0; retweet/favorite rate = 0.200192199888\n",
      "terror: ave_favorite = 43796.0; ave_retweet = 11276.0; retweet/favorite rate = 0.257466435291\n",
      "fbi: ave_favorite = 63542.0; ave_retweet = 15002.0; retweet/favorite rate = 0.236095810645\n",
      "mexico: ave_favorite = 48399.0; ave_retweet = 16289.0; retweet/favorite rate = 0.336556540424\n",
      "refugee: ave_favorite = 126503.0; ave_retweet = 28850.0; retweet/favorite rate = 0.228057832621\n"
     ]
    }
   ],
   "source": [
    "counts = np.zeros((2, nMyTopics))\n",
    "num_counts = np.zeros(nMyTopics)\n",
    "\n",
    "for i in range(nz_row.shape[0]):\n",
    "    num_counts[nz_col[i]] += 1\n",
    "    counts[0, nz_col[i]] += Y[nz_col[i], 0]\n",
    "    counts[1, nz_col[i]] += Y[nz_col[i], 1]\n",
    "counts[0, :] /= num_counts\n",
    "counts[1, :] /= num_counts\n",
    "for j in range(nMyTopics):\n",
    "    line = myTopicsNames[j] + ': ave_favorite = ' + str(counts[0, j]) \n",
    "    line += '; ave_retweet = ' + str(counts[1, j])\n",
    "    line += '; retweet/favorite rate = ' + str(counts[1, j]/counts[0, j])\n",
    "    print line"
   ]
  },
  {
   "cell_type": "code",
   "execution_count": 86,
   "metadata": {
    "collapsed": false
   },
   "outputs": [
    {
     "name": "stdout",
     "output_type": "stream",
     "text": [
      "Counter({'Twitter for iPhone': 1916, 'Twitter for Android': 998, 'Twitter Web Client': 153, 'Media Studio': 57, 'Twitter Ads': 31, 'Twitter for iPad': 18, 'Instagram': 1, 'Periscope': 1})\n",
      "Twitter for iPad: 0.566929133858\n",
      "Instagram: 0.0314960629921\n",
      "Media Studio: 1.79527559055\n",
      "Twitter Ads: 0.976377952756\n",
      "Twitter for iPhone: 60.3464566929\n",
      "Periscope: 0.0314960629921\n",
      "Twitter Web Client: 4.8188976378\n",
      "Twitter for Android: 31.4330708661\n",
      "['Twitter for iPad', 'Instagram', 'Media Studio', 'Twitter Ads', 'Twitter for iPhone', 'Periscope', 'Twitter Web Client', 'Twitter for Android']\n",
      "{'Twitter for iPad': 0, 'Instagram': 1, 'Media Studio': 2, 'Twitter Ads': 3, 'Twitter for iPhone': 4, 'Periscope': 5, 'Twitter for Android': 7, 'Twitter Web Client': 6}\n"
     ]
    }
   ],
   "source": [
    "# source analysis\n",
    "from collections import Counter\n",
    "sources_counter =  Counter(sources)\n",
    "print sources_counter\n",
    "\n",
    "cs = sources_counter.values()\n",
    "cs = [100*c/float(sum(cs)) for c in cs]\n",
    "for s, c in zip(sources_counter.keys(), cs):\n",
    "    print s + \": \" + str(c)\n",
    "#for s, c in sourcers_counter.items():\n",
    "    \n",
    "set_sources = set(sources)\n",
    "list_sources = list(set_sources)\n",
    "dict_sources = {s: i for i, s in enumerate(list_sources)}\n",
    "print list_sources\n",
    "print dict_sources\n",
    "#label_source = [dict_sources[source] for source in sources]\n",
    "#label_source = np.array(label_source).reshape(-1, 1)"
   ]
  },
  {
   "cell_type": "code",
   "execution_count": 87,
   "metadata": {
    "collapsed": false
   },
   "outputs": [
    {
     "name": "stdout",
     "output_type": "stream",
     "text": [
      "HRC\n",
      "Twitter for iPad: 0.459418070444\n",
      "Media Studio: 0.459418070444\n",
      "Twitter Ads: 0.0\n",
      "Twitter for iPhone: 50.0765696784\n",
      "Twitter Web Client: 7.96324655436\n",
      "Twitter for Android: 40.8882082695\n",
      "fakeNews\n",
      "Twitter for iPad: 0.4329004329\n",
      "Media Studio: 0.865800865801\n",
      "Twitter Ads: 0.21645021645\n",
      "Twitter for iPhone: 46.7532467532\n",
      "Twitter Web Client: 4.11255411255\n",
      "Twitter for Android: 47.619047619\n",
      "MAGA\n",
      "Twitter for iPad: 1.2389380531\n",
      "Media Studio: 3.00884955752\n",
      "Twitter Ads: 2.12389380531\n",
      "Twitter for iPhone: 57.6991150442\n",
      "Twitter Web Client: 4.77876106195\n",
      "Twitter for Android: 31.1504424779\n",
      "whitehouse\n",
      "Twitter for iPad: 1.64533820841\n",
      "Media Studio: 3.47349177331\n",
      "Twitter Ads: 2.74223034735\n",
      "Twitter for iPhone: 61.2431444241\n",
      "Twitter Web Client: 3.10786106033\n",
      "Twitter for Android: 27.7879341865\n",
      "healthcare\n",
      "Twitter for iPad: 0.26525198939\n",
      "Media Studio: 0.79575596817\n",
      "Twitter Ads: 0.26525198939\n",
      "Twitter for iPhone: 61.5384615385\n",
      "Twitter Web Client: 3.97877984085\n",
      "Twitter for Android: 33.1564986737\n",
      "join\n",
      "Twitter for iPad: 0.54347826087\n",
      "Media Studio: 2.44565217391\n",
      "Twitter Ads: 0.815217391304\n",
      "Twitter for iPhone: 75.5434782609\n",
      "Twitter Web Client: 3.53260869565\n",
      "Twitter for Android: 16.847826087\n",
      "korea&china\n",
      "Twitter for iPad: 0.0\n",
      "Media Studio: 1.67597765363\n",
      "Twitter Ads: 1.11731843575\n",
      "Twitter for iPhone: 64.2458100559\n",
      "Twitter Web Client: 4.46927374302\n",
      "Twitter for Android: 28.4916201117\n",
      "police\n",
      "Twitter for iPad: 0.25974025974\n",
      "Media Studio: 2.85714285714\n",
      "Twitter Ads: 1.55844155844\n",
      "Twitter for iPhone: 57.9220779221\n",
      "Twitter Web Client: 5.97402597403\n",
      "Twitter for Android: 31.4285714286\n",
      "vote\n",
      "Twitter for iPad: 0.218340611354\n",
      "Media Studio: 1.74672489083\n",
      "Twitter Ads: 0.436681222707\n",
      "Twitter for iPhone: 58.7336244541\n",
      "Twitter Web Client: 3.49344978166\n",
      "Twitter for Android: 35.1528384279\n",
      "jobs\n",
      "Twitter for iPad: 0.540540540541\n",
      "Media Studio: 1.62162162162\n",
      "Twitter Ads: 1.62162162162\n",
      "Twitter for iPhone: 62.972972973\n",
      "Twitter Web Client: 3.51351351351\n",
      "Twitter for Android: 29.7297297297\n",
      "interview\n",
      "Twitter for iPad: 1.31578947368\n",
      "Media Studio: 1.31578947368\n",
      "Twitter Ads: 0.0\n",
      "Twitter for iPhone: 67.8947368421\n",
      "Twitter Web Client: 2.63157894737\n",
      "Twitter for Android: 26.8421052632\n",
      "veterans\n",
      "Twitter for iPad: 0.558659217877\n",
      "Media Studio: 7.2625698324\n",
      "Twitter Ads: 4.74860335196\n",
      "Twitter for iPhone: 63.687150838\n",
      "Twitter Web Client: 4.74860335196\n",
      "Twitter for Android: 18.9944134078\n",
      "terrorist\n",
      "Twitter for iPad: 0.561797752809\n",
      "Media Studio: 1.68539325843\n",
      "Twitter Ads: 0.280898876404\n",
      "Twitter for iPhone: 55.3370786517\n",
      "Twitter Web Client: 6.4606741573\n",
      "Twitter for Android: 35.6741573034\n",
      "fbi\n",
      "Twitter for iPad: 0.389863547758\n",
      "Media Studio: 0.974658869396\n",
      "Twitter Ads: 0.584795321637\n",
      "Twitter for iPhone: 61.9883040936\n",
      "Twitter Web Client: 5.45808966862\n",
      "Twitter for Android: 30.604288499\n",
      "mexico\n",
      "Twitter for iPad: 0.0\n",
      "Media Studio: 1.30293159609\n",
      "Twitter Ads: 0.0\n",
      "Twitter for iPhone: 59.2833876221\n",
      "Twitter Web Client: 5.86319218241\n",
      "Twitter for Android: 33.5504885993\n",
      "refugee\n",
      "Twitter for iPad: 0.0\n",
      "Media Studio: 1.18343195266\n",
      "Twitter Ads: 0.0\n",
      "Twitter for iPhone: 55.6213017751\n",
      "Twitter Web Client: 4.14201183432\n",
      "Twitter for Android: 39.0532544379\n"
     ]
    }
   ],
   "source": [
    "counts_source = np.zeros((len(set_sources), nMyTopics))\n",
    "for i in range(nz_row.shape[0]):\n",
    "    source = sources[nz_row[i]]\n",
    "    counts_source[dict_sources[source], nz_col[i]] += 1\n",
    "counts_source /= np.sum(counts_source, axis=0)\n",
    "\n",
    "rows_show = [0, 2, 3, 4, 6, 7]\n",
    "list_sources_show = [source for i, source in enumerate(list_sources) if i in rows_show]\n",
    "counts_source_show = counts_source[rows_show]\n",
    "for j in range(nMyTopics):\n",
    "    print myTopicsNames[j]\n",
    "    for i in range(counts_source_show.shape[0]):\n",
    "        print list_sources_show[i] + ': ' + str(100*counts_source_show[i, j])"
   ]
  },
  {
   "cell_type": "code",
   "execution_count": 81,
   "metadata": {
    "collapsed": false
   },
   "outputs": [
    {
     "name": "stdout",
     "output_type": "stream",
     "text": [
      "[[ 0.00459418  0.004329    0.01238938  0.01645338  0.00265252  0.00543478\n",
      "   0.          0.0025974   0.00218341  0.00540541  0.01315789  0.00558659\n",
      "   0.00561798  0.00389864  0.          0.        ]\n",
      " [ 0.00153139  0.          0.          0.          0.          0.          0.\n",
      "   0.          0.          0.          0.          0.          0.          0.\n",
      "   0.          0.        ]\n",
      " [ 0.00459418  0.00865801  0.0300885   0.03473492  0.00795756  0.02445652\n",
      "   0.01675978  0.02857143  0.01746725  0.01621622  0.01315789  0.0726257\n",
      "   0.01685393  0.00974659  0.01302932  0.01183432]\n",
      " [ 0.          0.0021645   0.02123894  0.0274223   0.00265252  0.00815217\n",
      "   0.01117318  0.01558442  0.00436681  0.01621622  0.          0.04748603\n",
      "   0.00280899  0.00584795  0.          0.        ]\n",
      " [ 0.5007657   0.46753247  0.57699115  0.61243144  0.61538462  0.75543478\n",
      "   0.6424581   0.57922078  0.58733624  0.62972973  0.67894737  0.63687151\n",
      "   0.55337079  0.61988304  0.59283388  0.55621302]\n",
      " [ 0.          0.          0.          0.          0.          0.00271739\n",
      "   0.          0.          0.00218341  0.          0.          0.          0.\n",
      "   0.          0.          0.        ]\n",
      " [ 0.07963247  0.04112554  0.04778761  0.03107861  0.0397878   0.03532609\n",
      "   0.04469274  0.05974026  0.0349345   0.03513514  0.02631579  0.04748603\n",
      "   0.06460674  0.0545809   0.05863192  0.04142012]\n",
      " [ 0.40888208  0.47619048  0.31150442  0.27787934  0.33156499  0.16847826\n",
      "   0.2849162   0.31428571  0.35152838  0.2972973   0.26842105  0.18994413\n",
      "   0.35674157  0.30604288  0.33550489  0.39053254]]\n",
      "{'Twitter for iPad': 0, 'Instagram': 1, 'Media Studio': 2, 'Twitter Ads': 3, 'Twitter for iPhone': 4, 'Periscope': 5, 'Twitter for Android': 7, 'Twitter Web Client': 6}\n",
      "['Twitter for iPad', 'Instagram', 'Media Studio', 'Twitter Ads', 'Twitter for iPhone', 'Periscope', 'Twitter for Android', 'Twitter Web Client']\n"
     ]
    }
   ],
   "source": [
    "print counts_source\n",
    "print dict_sources\n",
    "print list_sources"
   ]
  },
  {
   "cell_type": "code",
   "execution_count": 82,
   "metadata": {
    "collapsed": false
   },
   "outputs": [
    {
     "name": "stdout",
     "output_type": "stream",
     "text": [
      "['Media Studio', 'Periscope', 'Instagram', 'Twitter for iPad', 'Twitter Ads', 'Twitter for iPhone', 'Twitter for Android', 'Twitter Web Client']\n"
     ]
    }
   ],
   "source": [
    "from operator import itemgetter\n",
    "print sorted(dict_sources, key=itemgetter(1))"
   ]
  },
  {
   "cell_type": "code",
   "execution_count": 170,
   "metadata": {
    "collapsed": false
   },
   "outputs": [
    {
     "name": "stdout",
     "output_type": "stream",
     "text": [
      "[ 146.  190.  206.   95.   57.   19.    9.    9.    4.   16.  125.  227.\n",
      "  301.  280.  167.  110.  123.  132.  125.  138.  167.  189.  194.  146.]\n"
     ]
    }
   ],
   "source": [
    "# time analysis\n",
    "delta_hour = 1\n",
    "hours_grid = np.linspace(0, 24-delta_hour, 24/delta_hour)\n",
    "hours_grid = [int(h) for h in hours_grid]\n",
    "nhgrid = len(hours_grid)\n",
    "\n",
    "count_times = np.zeros(nhgrid)\n",
    "topic_times = np.zeros((nhgrid, nMyTopics))\n",
    "for irow, row in tweets_pd.iterrows():\n",
    "    if row['w2vTokens_count'] == 0 or irow >= nTweets_full:\n",
    "        continue  \n",
    "\n",
    "    h = row['created_h']\n",
    "    ih = nhgrid-1\n",
    "    for i in range(nhgrid-1):\n",
    "        if h >= hours_grid[i] and h < hours_grid[i+1]:\n",
    "            ih = i\n",
    "            break\n",
    "    count_times[ih] += 1\n",
    "    \n",
    "    for j, topicName in enumerate(myTopicsNames):\n",
    "        topic_times[ih, j] += row[topicName + '_trans']\n",
    "print count_times\n",
    "count_times /= sum(count_times)\n",
    "\n",
    "# calculate the relative strength\n",
    "for j in range(nMyTopics):\n",
    "    topic_times[:, j] /= count_times\n",
    "\n",
    "# normalize\n",
    "from sklearn.preprocessing import normalize\n",
    "topic_times = normalize(topic_times, norm='l1', axis=0)"
   ]
  },
  {
   "cell_type": "code",
   "execution_count": 166,
   "metadata": {
    "collapsed": false
   },
   "outputs": [
    {
     "data": {
      "image/png": "[encoded data removed]",
      "text/plain": [
       "<matplotlib.figure.Figure at 0x109f7af50>"
      ]
     },
     "metadata": {},
     "output_type": "display_data"
    }
   ],
   "source": [
    "import matplotlib.dates as mdates\n",
    "import matplotlib.pyplot as plt\n",
    "\n",
    "from datetime import time\n",
    "x_times = list()\n",
    "for i in range(nhgrid):\n",
    "    x_times.append(time(hours_grid[i], 30, 0))\n",
    "\n",
    "delta_ticks = 2\n",
    "hours_ticks = np.linspace(0, 24-delta_ticks, 24/delta_ticks)\n",
    "xtick_times = [time(int(h), 0, 0) for h in hours_ticks]\n",
    "\n",
    "plt.figure()\n",
    "ax1 = plt.subplot(1, 1, 1)\n",
    "plt.plot(x_times, count_times, '-k', linewidth=3)\n",
    "ax1.set_xticks(xtick_times)\n",
    "plt.xlim((time(0, 0, 0), time(23, 59, 59)))\n",
    "plt.xlabel('Time')\n",
    "plt.ylabel('Percentage of tweets')\n",
    "plt.gcf().autofmt_xdate()\n",
    "plt.show()"
   ]
  },
  {
   "cell_type": "code",
   "execution_count": 169,
   "metadata": {
    "collapsed": false
   },
   "outputs": [
    {
     "data": {
      "image/png": "[encoded data removed]",
      "text/plain": [
       "<matplotlib.figure.Figure at 0x10aec3390>"
      ]
     },
     "metadata": {},
     "output_type": "display_data"
    }
   ],
   "source": [
    "from colors import cdict\n",
    "colorNames = ['blue', 'black', 'red', 'brown', 'cyan', 'orange', 'skyblue', 'purple', 'tomato', 'yellow',\n",
    "              'tan', 'magenta', 'green', 'darkblue', 'yellowgreen', 'gray']\n",
    "colors = [cdict[cn] for cn in colorNames]\n",
    "\n",
    "kind_set = [[0, 1, 2, 3], [4, 5, 6, 7], [8, 9, 10, 11], [12, 13, 14, 15]]\n",
    "myTopicsNames_rearrange = list()\n",
    "for ks in kind_set:\n",
    "    for k in ks:\n",
    "        myTopicsNames_rearrange.append(myTopicsNames[k])\n",
    "\n",
    "from sklearn.preprocessing import scale\n",
    "count_times_std = scale(count_times.reshape(-1, 1), axis=0)\n",
    "topic_times_std = scale(topic_times, axis=0)\n",
    "\n",
    "plt.figure()\n",
    "for k, ks in enumerate(kind_set):\n",
    "    ax = plt.subplot(2, 2, k+1)\n",
    "    ax.plot(x_times, count_times_std, '--')\n",
    "    for j in range(nMyTopics):\n",
    "        if j in ks:\n",
    "            #ax.plot(x_times, topic_times[:, j], color=colors[j], linewidth=3, label=myTopicsNames[j])\n",
    "            ax.plot(x_times, topic_times_std[:, j], color=colors[j], linewidth=3, label=myTopicsNames[j])\n",
    "    ax.set_xticks(xtick_times)\n",
    "    ax.legend()\n",
    "    plt.xlim((time(0, 0, 0), time(23, 59, 59)))\n",
    "    plt.xlabel('Time')\n",
    "    plt.ylabel('Relative Strength')\n",
    "    plt.gcf().autofmt_xdate()\n",
    "\n",
    "plt.show()"
   ]
  },
  {
   "cell_type": "code",
   "execution_count": 161,
   "metadata": {
    "collapsed": false
   },
   "outputs": [
    {
     "name": "stdout",
     "output_type": "stream",
     "text": [
      "5.55111512313e-17 1.0\n"
     ]
    }
   ],
   "source": [
    "print np.mean(count_times_std), np.std(count_times_std)"
   ]
  },
  {
   "cell_type": "code",
   "execution_count": 162,
   "metadata": {
    "collapsed": false
   },
   "outputs": [
    {
     "name": "stdout",
     "output_type": "stream",
     "text": [
      "[[ 0.16851309]\n",
      " [ 0.709394  ]\n",
      " [ 0.90607797]\n",
      " [-0.45841706]\n",
      " [-0.92554149]\n",
      " [-1.39266591]\n",
      " [-1.51559339]\n",
      " [-1.51559339]\n",
      " [-1.57705713]\n",
      " [-1.42954416]\n",
      " [-0.08963462]\n",
      " [ 1.16422568]\n",
      " [ 2.07388903]\n",
      " [ 1.81574133]\n",
      " [ 0.4266608 ]\n",
      " [-0.27402584]\n",
      " [-0.11422012]\n",
      " [-0.00358538]\n",
      " [-0.08963462]\n",
      " [ 0.0701711 ]\n",
      " [ 0.4266608 ]\n",
      " [ 0.69710125]\n",
      " [ 0.75856499]\n",
      " [ 0.16851309]]\n"
     ]
    }
   ],
   "source": [
    "print count_times_std"
   ]
  },
  {
   "cell_type": "code",
   "execution_count": null,
   "metadata": {
    "collapsed": true
   },
   "outputs": [],
   "source": [
    ""
   ]
  }
 ],
 "metadata": {
  "kernelspec": {
   "display_name": "Python 2",
   "language": "python",
   "name": "python2"
  },
  "language_info": {
   "codemirror_mode": {
    "name": "ipython",
    "version": 2.0
   },
   "file_extension": ".py",
   "mimetype": "text/x-python",
   "name": "python",
   "nbconvert_exporter": "python",
   "pygments_lexer": "ipython2",
   "version": "2.7.13"
  }
 },
 "nbformat": 4,
 "nbformat_minor": 0
}